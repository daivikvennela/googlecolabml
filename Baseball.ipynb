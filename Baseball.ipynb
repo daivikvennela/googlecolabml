{
  "metadata": {
    "kernelspec": {
      "language": "python",
      "display_name": "Python 3",
      "name": "python3"
    },
    "language_info": {
      "name": "python",
      "version": "3.10.13",
      "mimetype": "text/x-python",
      "codemirror_mode": {
        "name": "ipython",
        "version": 3
      },
      "pygments_lexer": "ipython3",
      "nbconvert_exporter": "python",
      "file_extension": ".py"
    },
    "kaggle": {
      "accelerator": "none",
      "dataSources": [],
      "dockerImageVersionId": 30698,
      "isInternetEnabled": false,
      "language": "python",
      "sourceType": "notebook",
      "isGpuEnabled": false
    },
    "colab": {
      "name": "Baseball",
      "provenance": [],
      "include_colab_link": true
    }
  },
  "nbformat_minor": 0,
  "nbformat": 4,
  "cells": [
    {
      "cell_type": "markdown",
      "metadata": {
        "id": "view-in-github",
        "colab_type": "text"
      },
      "source": [
        "<a href=\"https://colab.research.google.com/github/daivikvennela/googlecolabml/blob/main/Baseball.ipynb\" target=\"_parent\"><img src=\"https://colab.research.google.com/assets/colab-badge.svg\" alt=\"Open In Colab\"/></a>"
      ]
    },
    {
      "cell_type": "markdown",
      "source": [
        "Baseball Stat Prediction"
      ],
      "metadata": {
        "id": "X5s0DF-ILIkz"
      }
    },
    {
      "cell_type": "code",
      "source": [
        "import csv\n",
        "import pandas as pd\n",
        "\n",
        "data_path = \"/content/2022 Batting Stats.csv\"\n",
        "\n",
        "#Using the encoder to remove the Non Breaking space character\n",
        "df = pd.read_csv(data_path, encoding='latin-1')\n",
        "print(df.head())"
      ],
      "metadata": {
        "execution": {
          "iopub.status.busy": "2024-04-28T03:59:48.969203Z",
          "iopub.execute_input": "2024-04-28T03:59:48.969592Z",
          "iopub.status.idle": "2024-04-28T03:59:49.435063Z",
          "shell.execute_reply.started": "2024-04-28T03:59:48.969559Z",
          "shell.execute_reply": "2024-04-28T03:59:49.433254Z"
        },
        "trusted": true,
        "id": "NHQjPvcl6kvK",
        "outputId": "560ceb1d-c5df-42b2-a403-f7fdac43c8db",
        "colab": {
          "base_uri": "https://localhost:8080/",
          "height": 108
        }
      },
      "execution_count": 13,
      "outputs": [
        {
          "output_type": "error",
          "ename": "SyntaxError",
          "evalue": "invalid syntax (<ipython-input-13-275f231832ba>, line 9)",
          "traceback": [
            "\u001b[0;36m  File \u001b[0;32m\"<ipython-input-13-275f231832ba>\"\u001b[0;36m, line \u001b[0;32m9\u001b[0m\n\u001b[0;31m    git remote add origin git@github.com:daivikvennela/kaggle.git\u001b[0m\n\u001b[0m        ^\u001b[0m\n\u001b[0;31mSyntaxError\u001b[0m\u001b[0;31m:\u001b[0m invalid syntax\n"
          ]
        }
      ]
    }
  ]
}