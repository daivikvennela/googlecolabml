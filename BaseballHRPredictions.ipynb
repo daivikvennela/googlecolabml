{
  "nbformat": 4,
  "nbformat_minor": 0,
  "metadata": {
    "colab": {
      "provenance": [],
      "authorship_tag": "ABX9TyOeylcMSswEHWkQ9kis/baa",
      "include_colab_link": true
    },
    "kernelspec": {
      "name": "python3",
      "display_name": "Python 3"
    },
    "language_info": {
      "name": "python"
    }
  },
  "cells": [
    {
      "cell_type": "markdown",
      "metadata": {
        "id": "view-in-github",
        "colab_type": "text"
      },
      "source": [
        "<a href=\"https://colab.research.google.com/github/daivikvennela/googlecolabml/blob/main/BaseballHRPredictions.ipynb\" target=\"_parent\"><img src=\"https://colab.research.google.com/assets/colab-badge.svg\" alt=\"Open In Colab\"/></a>"
      ]
    },
    {
      "cell_type": "code",
      "source": [
        "#intall pybaseball \n",
        "!pip install pybaseball"
      ],
      "metadata": {
        "id": "cEAr23fX4iA5"
      },
      "execution_count": null,
      "outputs": []
    },
    {
      "cell_type": "code",
      "execution_count": 3,
      "metadata": {
        "id": "QijfkV_ZGk5q"
      },
      "outputs": [],
      "source": [
        "#Install Dependencies \n",
        "import os\n",
        "import pandas as pd\n",
        "import numpy as np\n",
        "from pybaseball import batting_stats"
      ]
    },
    {
      "cell_type": "markdown",
      "source": [],
      "metadata": {
        "id": "93kkh_y7Kiux"
      }
    },
    {
      "cell_type": "code",
      "source": [
        "START = 2002\n",
        "END = 2022"
      ],
      "metadata": {
        "id": "5EK6lGdOKsYq"
      },
      "execution_count": 65,
      "outputs": []
    },
    {
      "cell_type": "code",
      "source": [
        "#Takes stats from 2002 to 2022 with minimum 200 PA\n",
        "batting = batting_stats(START, END, qual = 250)"
      ],
      "metadata": {
        "id": "Cc9Yb1IjKwww"
      },
      "execution_count": 66,
      "outputs": []
    },
    {
      "cell_type": "code",
      "source": [
        "# Read csv\n",
        "batting.to_csv(\"batting.csv\")"
      ],
      "metadata": {
        "id": "oRtAI51FLI6Y"
      },
      "execution_count": 39,
      "outputs": []
    },
    {
      "cell_type": "code",
      "source": [
        "# Drop players with less than one season\n",
        "batting = batting.groupby(\"IDfg\", group_keys=False).filter(lambda x: x.shape[0] > 1)\n"
      ],
      "metadata": {
        "id": "avXZ8MDQLtTy"
      },
      "execution_count": 40,
      "outputs": []
    },
    {
      "cell_type": "code",
      "source": [
        "batting[[\"Name\", \"Season\", \"HR\"]]"
      ],
      "metadata": {
        "colab": {
          "base_uri": "https://localhost:8080/",
          "height": 424
        },
        "id": "JRWZ3iiH1eQA",
        "outputId": "1193bc0e-48ff-4920-a085-ac91835e161a"
      },
      "execution_count": 41,
      "outputs": [
        {
          "output_type": "execute_result",
          "data": {
            "text/plain": [
              "              Name  Season  HR\n",
              "0      Barry Bonds    2002  46\n",
              "1      Barry Bonds    2004  45\n",
              "14    Mookie Betts    2018  32\n",
              "2      Barry Bonds    2003  45\n",
              "73      Mike Trout    2013  27\n",
              "...            ...     ...  ..\n",
              "5787  Gerald Laird    2010   5\n",
              "5883   Chris Davis    2018  16\n",
              "5668     Adam Dunn    2011  11\n",
              "5856   Neifi Perez    2002   3\n",
              "902    Ryan Doumit    2008  15\n",
              "\n",
              "[5591 rows x 3 columns]"
            ],
            "text/html": [
              "\n",
              "  <div id=\"df-7e08542d-d512-4dc2-879f-f1a6072b4429\">\n",
              "    <div class=\"colab-df-container\">\n",
              "      <div>\n",
              "<style scoped>\n",
              "    .dataframe tbody tr th:only-of-type {\n",
              "        vertical-align: middle;\n",
              "    }\n",
              "\n",
              "    .dataframe tbody tr th {\n",
              "        vertical-align: top;\n",
              "    }\n",
              "\n",
              "    .dataframe thead th {\n",
              "        text-align: right;\n",
              "    }\n",
              "</style>\n",
              "<table border=\"1\" class=\"dataframe\">\n",
              "  <thead>\n",
              "    <tr style=\"text-align: right;\">\n",
              "      <th></th>\n",
              "      <th>Name</th>\n",
              "      <th>Season</th>\n",
              "      <th>HR</th>\n",
              "    </tr>\n",
              "  </thead>\n",
              "  <tbody>\n",
              "    <tr>\n",
              "      <th>0</th>\n",
              "      <td>Barry Bonds</td>\n",
              "      <td>2002</td>\n",
              "      <td>46</td>\n",
              "    </tr>\n",
              "    <tr>\n",
              "      <th>1</th>\n",
              "      <td>Barry Bonds</td>\n",
              "      <td>2004</td>\n",
              "      <td>45</td>\n",
              "    </tr>\n",
              "    <tr>\n",
              "      <th>14</th>\n",
              "      <td>Mookie Betts</td>\n",
              "      <td>2018</td>\n",
              "      <td>32</td>\n",
              "    </tr>\n",
              "    <tr>\n",
              "      <th>2</th>\n",
              "      <td>Barry Bonds</td>\n",
              "      <td>2003</td>\n",
              "      <td>45</td>\n",
              "    </tr>\n",
              "    <tr>\n",
              "      <th>73</th>\n",
              "      <td>Mike Trout</td>\n",
              "      <td>2013</td>\n",
              "      <td>27</td>\n",
              "    </tr>\n",
              "    <tr>\n",
              "      <th>...</th>\n",
              "      <td>...</td>\n",
              "      <td>...</td>\n",
              "      <td>...</td>\n",
              "    </tr>\n",
              "    <tr>\n",
              "      <th>5787</th>\n",
              "      <td>Gerald Laird</td>\n",
              "      <td>2010</td>\n",
              "      <td>5</td>\n",
              "    </tr>\n",
              "    <tr>\n",
              "      <th>5883</th>\n",
              "      <td>Chris Davis</td>\n",
              "      <td>2018</td>\n",
              "      <td>16</td>\n",
              "    </tr>\n",
              "    <tr>\n",
              "      <th>5668</th>\n",
              "      <td>Adam Dunn</td>\n",
              "      <td>2011</td>\n",
              "      <td>11</td>\n",
              "    </tr>\n",
              "    <tr>\n",
              "      <th>5856</th>\n",
              "      <td>Neifi Perez</td>\n",
              "      <td>2002</td>\n",
              "      <td>3</td>\n",
              "    </tr>\n",
              "    <tr>\n",
              "      <th>902</th>\n",
              "      <td>Ryan Doumit</td>\n",
              "      <td>2008</td>\n",
              "      <td>15</td>\n",
              "    </tr>\n",
              "  </tbody>\n",
              "</table>\n",
              "<p>5591 rows × 3 columns</p>\n",
              "</div>\n",
              "      <button class=\"colab-df-convert\" onclick=\"convertToInteractive('df-7e08542d-d512-4dc2-879f-f1a6072b4429')\"\n",
              "              title=\"Convert this dataframe to an interactive table.\"\n",
              "              style=\"display:none;\">\n",
              "        \n",
              "  <svg xmlns=\"http://www.w3.org/2000/svg\" height=\"24px\"viewBox=\"0 0 24 24\"\n",
              "       width=\"24px\">\n",
              "    <path d=\"M0 0h24v24H0V0z\" fill=\"none\"/>\n",
              "    <path d=\"M18.56 5.44l.94 2.06.94-2.06 2.06-.94-2.06-.94-.94-2.06-.94 2.06-2.06.94zm-11 1L8.5 8.5l.94-2.06 2.06-.94-2.06-.94L8.5 2.5l-.94 2.06-2.06.94zm10 10l.94 2.06.94-2.06 2.06-.94-2.06-.94-.94-2.06-.94 2.06-2.06.94z\"/><path d=\"M17.41 7.96l-1.37-1.37c-.4-.4-.92-.59-1.43-.59-.52 0-1.04.2-1.43.59L10.3 9.45l-7.72 7.72c-.78.78-.78 2.05 0 2.83L4 21.41c.39.39.9.59 1.41.59.51 0 1.02-.2 1.41-.59l7.78-7.78 2.81-2.81c.8-.78.8-2.07 0-2.86zM5.41 20L4 18.59l7.72-7.72 1.47 1.35L5.41 20z\"/>\n",
              "  </svg>\n",
              "      </button>\n",
              "      \n",
              "  <style>\n",
              "    .colab-df-container {\n",
              "      display:flex;\n",
              "      flex-wrap:wrap;\n",
              "      gap: 12px;\n",
              "    }\n",
              "\n",
              "    .colab-df-convert {\n",
              "      background-color: #E8F0FE;\n",
              "      border: none;\n",
              "      border-radius: 50%;\n",
              "      cursor: pointer;\n",
              "      display: none;\n",
              "      fill: #1967D2;\n",
              "      height: 32px;\n",
              "      padding: 0 0 0 0;\n",
              "      width: 32px;\n",
              "    }\n",
              "\n",
              "    .colab-df-convert:hover {\n",
              "      background-color: #E2EBFA;\n",
              "      box-shadow: 0px 1px 2px rgba(60, 64, 67, 0.3), 0px 1px 3px 1px rgba(60, 64, 67, 0.15);\n",
              "      fill: #174EA6;\n",
              "    }\n",
              "\n",
              "    [theme=dark] .colab-df-convert {\n",
              "      background-color: #3B4455;\n",
              "      fill: #D2E3FC;\n",
              "    }\n",
              "\n",
              "    [theme=dark] .colab-df-convert:hover {\n",
              "      background-color: #434B5C;\n",
              "      box-shadow: 0px 1px 3px 1px rgba(0, 0, 0, 0.15);\n",
              "      filter: drop-shadow(0px 1px 2px rgba(0, 0, 0, 0.3));\n",
              "      fill: #FFFFFF;\n",
              "    }\n",
              "  </style>\n",
              "\n",
              "      <script>\n",
              "        const buttonEl =\n",
              "          document.querySelector('#df-7e08542d-d512-4dc2-879f-f1a6072b4429 button.colab-df-convert');\n",
              "        buttonEl.style.display =\n",
              "          google.colab.kernel.accessAllowed ? 'block' : 'none';\n",
              "\n",
              "        async function convertToInteractive(key) {\n",
              "          const element = document.querySelector('#df-7e08542d-d512-4dc2-879f-f1a6072b4429');\n",
              "          const dataTable =\n",
              "            await google.colab.kernel.invokeFunction('convertToInteractive',\n",
              "                                                     [key], {});\n",
              "          if (!dataTable) return;\n",
              "\n",
              "          const docLinkHtml = 'Like what you see? Visit the ' +\n",
              "            '<a target=\"_blank\" href=https://colab.research.google.com/notebooks/data_table.ipynb>data table notebook</a>'\n",
              "            + ' to learn more about interactive tables.';\n",
              "          element.innerHTML = '';\n",
              "          dataTable['output_type'] = 'display_data';\n",
              "          await google.colab.output.renderOutput(dataTable, element);\n",
              "          const docLink = document.createElement('div');\n",
              "          docLink.innerHTML = docLinkHtml;\n",
              "          element.appendChild(docLink);\n",
              "        }\n",
              "      </script>\n",
              "    </div>\n",
              "  </div>\n",
              "  "
            ]
          },
          "metadata": {},
          "execution_count": 41
        }
      ]
    },
    {
      "cell_type": "code",
      "source": [
        "# takes data and creates a new column called next war and puts last eyars data in that slot \n",
        "def next_season(player):\n",
        "  player = player.sort_values(\"Season\")\n",
        "  player[\"Next_HR\"] = player[\"HR\"].shift(-1)\n",
        "  return player\n",
        "\n",
        "batting = batting.groupby(\"IDfg\", group_keys=False).apply(next_season)"
      ],
      "metadata": {
        "id": "0OZdb8zVN9YI"
      },
      "execution_count": 42,
      "outputs": []
    },
    {
      "cell_type": "code",
      "source": [
        "batting[[\"Name\", \"Season\", \"HR\", \"Next_HR\"]]"
      ],
      "metadata": {
        "colab": {
          "base_uri": "https://localhost:8080/",
          "height": 424
        },
        "id": "SEHIfjQqPPQ2",
        "outputId": "88fc2376-3fd9-421c-93b0-91f8fc0d1c4f"
      },
      "execution_count": 43,
      "outputs": [
        {
          "output_type": "execute_result",
          "data": {
            "text/plain": [
              "                 Name  Season  HR  Next_HR\n",
              "4857  Alfredo Amezaga    2006   3      2.0\n",
              "4409  Alfredo Amezaga    2007   2      3.0\n",
              "4606  Alfredo Amezaga    2008   3      NaN\n",
              "1068  Garret Anderson    2002  29     29.0\n",
              "798   Garret Anderson    2003  29     14.0\n",
              "...               ...     ...  ..      ...\n",
              "1535    Shohei Ohtani    2019  18     46.0\n",
              "316     Shohei Ohtani    2021  46      NaN\n",
              "342         Juan Soto    2018  22     34.0\n",
              "308         Juan Soto    2019  34     29.0\n",
              "87          Juan Soto    2021  29      NaN\n",
              "\n",
              "[5591 rows x 4 columns]"
            ],
            "text/html": [
              "\n",
              "  <div id=\"df-a4a312fc-303f-4621-a392-56873f8836d2\">\n",
              "    <div class=\"colab-df-container\">\n",
              "      <div>\n",
              "<style scoped>\n",
              "    .dataframe tbody tr th:only-of-type {\n",
              "        vertical-align: middle;\n",
              "    }\n",
              "\n",
              "    .dataframe tbody tr th {\n",
              "        vertical-align: top;\n",
              "    }\n",
              "\n",
              "    .dataframe thead th {\n",
              "        text-align: right;\n",
              "    }\n",
              "</style>\n",
              "<table border=\"1\" class=\"dataframe\">\n",
              "  <thead>\n",
              "    <tr style=\"text-align: right;\">\n",
              "      <th></th>\n",
              "      <th>Name</th>\n",
              "      <th>Season</th>\n",
              "      <th>HR</th>\n",
              "      <th>Next_HR</th>\n",
              "    </tr>\n",
              "  </thead>\n",
              "  <tbody>\n",
              "    <tr>\n",
              "      <th>4857</th>\n",
              "      <td>Alfredo Amezaga</td>\n",
              "      <td>2006</td>\n",
              "      <td>3</td>\n",
              "      <td>2.0</td>\n",
              "    </tr>\n",
              "    <tr>\n",
              "      <th>4409</th>\n",
              "      <td>Alfredo Amezaga</td>\n",
              "      <td>2007</td>\n",
              "      <td>2</td>\n",
              "      <td>3.0</td>\n",
              "    </tr>\n",
              "    <tr>\n",
              "      <th>4606</th>\n",
              "      <td>Alfredo Amezaga</td>\n",
              "      <td>2008</td>\n",
              "      <td>3</td>\n",
              "      <td>NaN</td>\n",
              "    </tr>\n",
              "    <tr>\n",
              "      <th>1068</th>\n",
              "      <td>Garret Anderson</td>\n",
              "      <td>2002</td>\n",
              "      <td>29</td>\n",
              "      <td>29.0</td>\n",
              "    </tr>\n",
              "    <tr>\n",
              "      <th>798</th>\n",
              "      <td>Garret Anderson</td>\n",
              "      <td>2003</td>\n",
              "      <td>29</td>\n",
              "      <td>14.0</td>\n",
              "    </tr>\n",
              "    <tr>\n",
              "      <th>...</th>\n",
              "      <td>...</td>\n",
              "      <td>...</td>\n",
              "      <td>...</td>\n",
              "      <td>...</td>\n",
              "    </tr>\n",
              "    <tr>\n",
              "      <th>1535</th>\n",
              "      <td>Shohei Ohtani</td>\n",
              "      <td>2019</td>\n",
              "      <td>18</td>\n",
              "      <td>46.0</td>\n",
              "    </tr>\n",
              "    <tr>\n",
              "      <th>316</th>\n",
              "      <td>Shohei Ohtani</td>\n",
              "      <td>2021</td>\n",
              "      <td>46</td>\n",
              "      <td>NaN</td>\n",
              "    </tr>\n",
              "    <tr>\n",
              "      <th>342</th>\n",
              "      <td>Juan Soto</td>\n",
              "      <td>2018</td>\n",
              "      <td>22</td>\n",
              "      <td>34.0</td>\n",
              "    </tr>\n",
              "    <tr>\n",
              "      <th>308</th>\n",
              "      <td>Juan Soto</td>\n",
              "      <td>2019</td>\n",
              "      <td>34</td>\n",
              "      <td>29.0</td>\n",
              "    </tr>\n",
              "    <tr>\n",
              "      <th>87</th>\n",
              "      <td>Juan Soto</td>\n",
              "      <td>2021</td>\n",
              "      <td>29</td>\n",
              "      <td>NaN</td>\n",
              "    </tr>\n",
              "  </tbody>\n",
              "</table>\n",
              "<p>5591 rows × 4 columns</p>\n",
              "</div>\n",
              "      <button class=\"colab-df-convert\" onclick=\"convertToInteractive('df-a4a312fc-303f-4621-a392-56873f8836d2')\"\n",
              "              title=\"Convert this dataframe to an interactive table.\"\n",
              "              style=\"display:none;\">\n",
              "        \n",
              "  <svg xmlns=\"http://www.w3.org/2000/svg\" height=\"24px\"viewBox=\"0 0 24 24\"\n",
              "       width=\"24px\">\n",
              "    <path d=\"M0 0h24v24H0V0z\" fill=\"none\"/>\n",
              "    <path d=\"M18.56 5.44l.94 2.06.94-2.06 2.06-.94-2.06-.94-.94-2.06-.94 2.06-2.06.94zm-11 1L8.5 8.5l.94-2.06 2.06-.94-2.06-.94L8.5 2.5l-.94 2.06-2.06.94zm10 10l.94 2.06.94-2.06 2.06-.94-2.06-.94-.94-2.06-.94 2.06-2.06.94z\"/><path d=\"M17.41 7.96l-1.37-1.37c-.4-.4-.92-.59-1.43-.59-.52 0-1.04.2-1.43.59L10.3 9.45l-7.72 7.72c-.78.78-.78 2.05 0 2.83L4 21.41c.39.39.9.59 1.41.59.51 0 1.02-.2 1.41-.59l7.78-7.78 2.81-2.81c.8-.78.8-2.07 0-2.86zM5.41 20L4 18.59l7.72-7.72 1.47 1.35L5.41 20z\"/>\n",
              "  </svg>\n",
              "      </button>\n",
              "      \n",
              "  <style>\n",
              "    .colab-df-container {\n",
              "      display:flex;\n",
              "      flex-wrap:wrap;\n",
              "      gap: 12px;\n",
              "    }\n",
              "\n",
              "    .colab-df-convert {\n",
              "      background-color: #E8F0FE;\n",
              "      border: none;\n",
              "      border-radius: 50%;\n",
              "      cursor: pointer;\n",
              "      display: none;\n",
              "      fill: #1967D2;\n",
              "      height: 32px;\n",
              "      padding: 0 0 0 0;\n",
              "      width: 32px;\n",
              "    }\n",
              "\n",
              "    .colab-df-convert:hover {\n",
              "      background-color: #E2EBFA;\n",
              "      box-shadow: 0px 1px 2px rgba(60, 64, 67, 0.3), 0px 1px 3px 1px rgba(60, 64, 67, 0.15);\n",
              "      fill: #174EA6;\n",
              "    }\n",
              "\n",
              "    [theme=dark] .colab-df-convert {\n",
              "      background-color: #3B4455;\n",
              "      fill: #D2E3FC;\n",
              "    }\n",
              "\n",
              "    [theme=dark] .colab-df-convert:hover {\n",
              "      background-color: #434B5C;\n",
              "      box-shadow: 0px 1px 3px 1px rgba(0, 0, 0, 0.15);\n",
              "      filter: drop-shadow(0px 1px 2px rgba(0, 0, 0, 0.3));\n",
              "      fill: #FFFFFF;\n",
              "    }\n",
              "  </style>\n",
              "\n",
              "      <script>\n",
              "        const buttonEl =\n",
              "          document.querySelector('#df-a4a312fc-303f-4621-a392-56873f8836d2 button.colab-df-convert');\n",
              "        buttonEl.style.display =\n",
              "          google.colab.kernel.accessAllowed ? 'block' : 'none';\n",
              "\n",
              "        async function convertToInteractive(key) {\n",
              "          const element = document.querySelector('#df-a4a312fc-303f-4621-a392-56873f8836d2');\n",
              "          const dataTable =\n",
              "            await google.colab.kernel.invokeFunction('convertToInteractive',\n",
              "                                                     [key], {});\n",
              "          if (!dataTable) return;\n",
              "\n",
              "          const docLinkHtml = 'Like what you see? Visit the ' +\n",
              "            '<a target=\"_blank\" href=https://colab.research.google.com/notebooks/data_table.ipynb>data table notebook</a>'\n",
              "            + ' to learn more about interactive tables.';\n",
              "          element.innerHTML = '';\n",
              "          dataTable['output_type'] = 'display_data';\n",
              "          await google.colab.output.renderOutput(dataTable, element);\n",
              "          const docLink = document.createElement('div');\n",
              "          docLink.innerHTML = docLinkHtml;\n",
              "          element.appendChild(docLink);\n",
              "        }\n",
              "      </script>\n",
              "    </div>\n",
              "  </div>\n",
              "  "
            ]
          },
          "metadata": {},
          "execution_count": 43
        }
      ]
    },
    {
      "cell_type": "code",
      "source": [
        "# count the number of null values in a column\n",
        "null_count = batting.isnull().sum()"
      ],
      "metadata": {
        "id": "K4LzreDrVpny"
      },
      "execution_count": 44,
      "outputs": []
    },
    {
      "cell_type": "code",
      "source": [
        "#create a list where there are no null values in the columns \n",
        "complete_cols = list(batting.columns[null_count == 0])"
      ],
      "metadata": {
        "id": "lRWrl-XIWLHR"
      },
      "execution_count": 45,
      "outputs": []
    },
    {
      "cell_type": "code",
      "source": [
        "#create a copy of the dataframe with the complete_cols and the \"NextWAR\" Columns \n",
        "batting = batting[complete_cols + [\"Next_HR\"]].copy()"
      ],
      "metadata": {
        "id": "WjVNKFdsWhwq"
      },
      "execution_count": 46,
      "outputs": []
    },
    {
      "cell_type": "code",
      "source": [
        "#delete unecessry data columns such as dollar values and age \n",
        "del batting['Dol']\n",
        "del batting['Age Rng']\n"
      ],
      "metadata": {
        "id": "ys2GMGxRXlOP"
      },
      "execution_count": 47,
      "outputs": []
    },
    {
      "cell_type": "code",
      "source": [
        "#turn team name into a catergrolical type and convert it into a numeric code\n",
        "batting[\"team code\"] = batting[\"Team\"].astype(\"category\").cat.codes"
      ],
      "metadata": {
        "id": "hjJFUoM8ZS8f"
      },
      "execution_count": 48,
      "outputs": []
    },
    {
      "cell_type": "code",
      "source": [
        "#create copy and drop rows where the war is missing \n",
        "batting_full = batting.copy()\n",
        "batting = batting.dropna()"
      ],
      "metadata": {
        "id": "pINRw7Q2Zvtq"
      },
      "execution_count": 49,
      "outputs": []
    },
    {
      "cell_type": "code",
      "source": [
        "#Import linear regression model, feature selector and time series split which is used as a part of the feature selsector\n",
        "from sklearn.linear_model import Ridge\n",
        "from sklearn.feature_selection import SequentialFeatureSelector\n",
        "from sklearn.model_selection import TimeSeriesSplit\n",
        "\n",
        "# Initialize the ridge regression model, one parameter \"alapha\" which if set higher reduced overfitting and the lower it is closer to a pure linear regresion\n",
        "rr = Ridge(alpha = 1)\n",
        "\n",
        "#Split data up into three parts and make predictions \n",
        "split = TimeSeriesSplit(n_splits = 3)\n",
        "\n",
        "#Initatializ sequential feature selector, functions(ridge regresion model, number of features to select, direction, cv, number of threads/processor cores)\n",
        "# Starts with 0 and evalutes features to find the best one until it has 20\n",
        "sfs = SequentialFeatureSelector(rr, n_features_to_select= 20, direction = \"forward\", cv = split, n_jobs=4)\n",
        "\n",
        "\n"
      ],
      "metadata": {
        "id": "GOSKjPeQ46L1"
      },
      "execution_count": 50,
      "outputs": []
    },
    {
      "cell_type": "code",
      "source": [
        "# Remove colums that will not work with sfs\n",
        "removed_columns = [\"Next_HR\", \"Name\", \"Team\", \"IDfg\", \"Season\"]\n",
        "#New set of columns w/o removed columns \n",
        "\n",
        "\n",
        "selected_columns = batting.columns[~batting.columns.isin(removed_columns)]"
      ],
      "metadata": {
        "id": "OS_fpkqoB-Jz"
      },
      "execution_count": 51,
      "outputs": []
    },
    {
      "cell_type": "code",
      "source": [
        "#scale data so that the mean is 0 and the stnadard devetions is 1, min max scaling helps put all values between 0 and 1 \n",
        "from sklearn.preprocessing import MinMaxScaler\n",
        "scaler = MinMaxScaler()\n",
        "batting.loc[:, selected_columns] = scaler.fit_transform(batting[selected_columns])"
      ],
      "metadata": {
        "id": "kzCHRwm1EYW5",
        "colab": {
          "base_uri": "https://localhost:8080/"
        },
        "outputId": "e1ecd18b-b300-4c74-b893-2fdf612fc98b"
      },
      "execution_count": 52,
      "outputs": [
        {
          "output_type": "stream",
          "name": "stderr",
          "text": [
            "/usr/local/lib/python3.8/dist-packages/pandas/core/indexing.py:1835: SettingWithCopyWarning: \n",
            "A value is trying to be set on a copy of a slice from a DataFrame.\n",
            "Try using .loc[row_indexer,col_indexer] = value instead\n",
            "\n",
            "See the caveats in the documentation: https://pandas.pydata.org/pandas-docs/stable/user_guide/indexing.html#returning-a-view-versus-a-copy\n",
            "  self._setitem_single_column(loc, value[:, i].tolist(), pi)\n"
          ]
        }
      ]
    },
    {
      "cell_type": "code",
      "source": [
        "#fit model \n",
        "sfs.fit(batting[selected_columns], batting[\"Next_HR\"])"
      ],
      "metadata": {
        "colab": {
          "base_uri": "https://localhost:8080/"
        },
        "id": "NTrjZoOYIDW6",
        "outputId": "778b2cfa-f82c-4822-c33c-d57379b2172d"
      },
      "execution_count": 53,
      "outputs": [
        {
          "output_type": "execute_result",
          "data": {
            "text/plain": [
              "SequentialFeatureSelector(cv=TimeSeriesSplit(gap=0, max_train_size=None, n_splits=3, test_size=None),\n",
              "                          estimator=Ridge(alpha=1), n_features_to_select=20,\n",
              "                          n_jobs=4)"
            ]
          },
          "metadata": {},
          "execution_count": 53
        }
      ]
    },
    {
      "cell_type": "code",
      "source": [
        "# extract features \n",
        "predictors = list(selected_columns[sfs.get_support()])"
      ],
      "metadata": {
        "id": "jbzT489aKHRQ"
      },
      "execution_count": 54,
      "outputs": []
    },
    {
      "cell_type": "code",
      "source": [
        "# backtest function: generates the predictions for the model , starts from 2007 and uses older data to predict the stats "
      ],
      "metadata": {
        "id": "4-YwQJ06K0Tw"
      },
      "execution_count": null,
      "outputs": []
    },
    {
      "cell_type": "code",
      "source": [
        "def backtest(data, model, predictions, start=5, step = 1):\n",
        "  all_predictions= []\n",
        "  years = sorted(data[\"Season\"].unique())\n",
        "\n",
        "  for i in range(start, len(years), step):\n",
        "    current_year = years[i]\n",
        "\n",
        "    train = data[data[\"Season\"] < current_year]\n",
        "    test = data[data[\"Season\"] == current_year]\n",
        "#predict function returns a numpy array and is later converted into a pandas series so it is easier to work with, use concat to combine\n",
        "    model.fit(train[predictors], train[\"Next_HR\"])\n",
        "        \n",
        "    preds = model.predict(test[predictors])\n",
        "    preds = pd.Series(preds, index=test.index)\n",
        "    combined = pd.concat([test[\"Next_HR\"], preds], axis=1)\n",
        "    combined.columns = [\"actual\", \"prediction\"]\n",
        "        \n",
        "    all_predictions.append(combined)\n",
        "  return pd.concat(all_predictions)\n"
      ],
      "metadata": {
        "id": "sM6W9K6H21Dt"
      },
      "execution_count": 55,
      "outputs": []
    },
    {
      "cell_type": "code",
      "source": [
        "predictions = backtest(batting, rr, predictors)"
      ],
      "metadata": {
        "id": "VksWi_am_U6u"
      },
      "execution_count": 56,
      "outputs": []
    },
    {
      "cell_type": "code",
      "source": [
        "from sklearn.metrics import mean_squared_error\n",
        "mean_squared_error(predictions[\"actual\"], predictions[\"prediction\"])"
      ],
      "metadata": {
        "colab": {
          "base_uri": "https://localhost:8080/"
        },
        "id": "trZtgDvm_u76",
        "outputId": "18b735f0-f316-4655-8327-acc6909a4f0e"
      },
      "execution_count": 57,
      "outputs": [
        {
          "output_type": "execute_result",
          "data": {
            "text/plain": [
              "54.557480721431645"
            ]
          },
          "metadata": {},
          "execution_count": 57
        }
      ]
    },
    {
      "cell_type": "code",
      "source": [
        "batting[\"Next_HR\"].describe()"
      ],
      "metadata": {
        "colab": {
          "base_uri": "https://localhost:8080/"
        },
        "id": "j4Q2JrC6AEit",
        "outputId": "f20ec126-c479-461f-d5be-742cb8fcf3da"
      },
      "execution_count": 58,
      "outputs": [
        {
          "output_type": "execute_result",
          "data": {
            "text/plain": [
              "count    4596.000000\n",
              "mean       15.532202\n",
              "std        10.166366\n",
              "min         0.000000\n",
              "25%         8.000000\n",
              "50%        13.000000\n",
              "75%        22.000000\n",
              "max        59.000000\n",
              "Name: Next_HR, dtype: float64"
            ]
          },
          "metadata": {},
          "execution_count": 58
        }
      ]
    },
    {
      "cell_type": "code",
      "source": [
        "diff = predictions[\"actual\"] - predictions[\"prediction\"]"
      ],
      "metadata": {
        "id": "c8xKNYhOAJOd"
      },
      "execution_count": 59,
      "outputs": []
    },
    {
      "cell_type": "code",
      "source": [
        "merged = predictions.merge(batting, left_index=True, right_index=True)"
      ],
      "metadata": {
        "id": "_Dz53cfNz85r"
      },
      "execution_count": 60,
      "outputs": []
    },
    {
      "cell_type": "code",
      "source": [
        "merged[\"diff\"] = (predictions[\"actual\"] - predictions[\"prediction\"]).abs()"
      ],
      "metadata": {
        "id": "7Z18wM1z0BXx"
      },
      "execution_count": 61,
      "outputs": []
    },
    {
      "cell_type": "code",
      "source": [
        "merged[[\"IDfg\", \"Season\", \"Name\", \"HR\", \"Next_HR\", \"diff\"]].sort_values([\"diff\"])"
      ],
      "metadata": {
        "id": "oih5f_G_0Dhs"
      },
      "execution_count": null,
      "outputs": []
    },
    {
      "cell_type": "markdown",
      "source": [],
      "metadata": {
        "id": "87IYnfhW0BNK"
      }
    },
    {
      "cell_type": "code",
      "source": [
        "merged[[\"IDfg\", \"Season\", \"Name\", \"HR\", \"Next_HR\", \"diff\"]].sort_values([\"diff\"])"
      ],
      "metadata": {
        "colab": {
          "base_uri": "https://localhost:8080/",
          "height": 424
        },
        "id": "JHmnyYxV9w5c",
        "outputId": "d7e208e8-7122-4266-b808-c55c89106efd"
      },
      "execution_count": 64,
      "outputs": [
        {
          "output_type": "execute_result",
          "data": {
            "text/plain": [
              "       IDfg  Season                   Name        HR  Next_HR       diff\n",
              "3020   7571    2016      Lonnie Chisenhall  0.135593     12.0   0.003017\n",
              "3865   6141    2009             Tony Gwynn  0.033898      3.0   0.003354\n",
              "1301   1825    2008          David DeJesus  0.203390     13.0   0.004571\n",
              "4279  11737    2014       Nick Castellanos  0.186441     15.0   0.004749\n",
              "3659   3123    2014          Gregor Blanco  0.084746      5.0   0.006955\n",
              "...     ...     ...                    ...       ...      ...        ...\n",
              "2867  19611    2019  Vladimir Guerrero Jr.  0.254237     48.0  27.209550\n",
              "2979   6876    2015            Mark Trumbo  0.372881     47.0  27.501251\n",
              "1446  14221    2018            Jorge Soler  0.152542     48.0  28.562762\n",
              "1954   4949    2016      Giancarlo Stanton  0.457627     59.0  31.795136\n",
              "2349   1887    2009          Jose Bautista  0.220339     54.0  37.694531\n",
              "\n",
              "[3298 rows x 6 columns]"
            ],
            "text/html": [
              "\n",
              "  <div id=\"df-1c532969-4ec1-444c-888a-8f1aa221fd07\">\n",
              "    <div class=\"colab-df-container\">\n",
              "      <div>\n",
              "<style scoped>\n",
              "    .dataframe tbody tr th:only-of-type {\n",
              "        vertical-align: middle;\n",
              "    }\n",
              "\n",
              "    .dataframe tbody tr th {\n",
              "        vertical-align: top;\n",
              "    }\n",
              "\n",
              "    .dataframe thead th {\n",
              "        text-align: right;\n",
              "    }\n",
              "</style>\n",
              "<table border=\"1\" class=\"dataframe\">\n",
              "  <thead>\n",
              "    <tr style=\"text-align: right;\">\n",
              "      <th></th>\n",
              "      <th>IDfg</th>\n",
              "      <th>Season</th>\n",
              "      <th>Name</th>\n",
              "      <th>HR</th>\n",
              "      <th>Next_HR</th>\n",
              "      <th>diff</th>\n",
              "    </tr>\n",
              "  </thead>\n",
              "  <tbody>\n",
              "    <tr>\n",
              "      <th>3020</th>\n",
              "      <td>7571</td>\n",
              "      <td>2016</td>\n",
              "      <td>Lonnie Chisenhall</td>\n",
              "      <td>0.135593</td>\n",
              "      <td>12.0</td>\n",
              "      <td>0.003017</td>\n",
              "    </tr>\n",
              "    <tr>\n",
              "      <th>3865</th>\n",
              "      <td>6141</td>\n",
              "      <td>2009</td>\n",
              "      <td>Tony Gwynn</td>\n",
              "      <td>0.033898</td>\n",
              "      <td>3.0</td>\n",
              "      <td>0.003354</td>\n",
              "    </tr>\n",
              "    <tr>\n",
              "      <th>1301</th>\n",
              "      <td>1825</td>\n",
              "      <td>2008</td>\n",
              "      <td>David DeJesus</td>\n",
              "      <td>0.203390</td>\n",
              "      <td>13.0</td>\n",
              "      <td>0.004571</td>\n",
              "    </tr>\n",
              "    <tr>\n",
              "      <th>4279</th>\n",
              "      <td>11737</td>\n",
              "      <td>2014</td>\n",
              "      <td>Nick Castellanos</td>\n",
              "      <td>0.186441</td>\n",
              "      <td>15.0</td>\n",
              "      <td>0.004749</td>\n",
              "    </tr>\n",
              "    <tr>\n",
              "      <th>3659</th>\n",
              "      <td>3123</td>\n",
              "      <td>2014</td>\n",
              "      <td>Gregor Blanco</td>\n",
              "      <td>0.084746</td>\n",
              "      <td>5.0</td>\n",
              "      <td>0.006955</td>\n",
              "    </tr>\n",
              "    <tr>\n",
              "      <th>...</th>\n",
              "      <td>...</td>\n",
              "      <td>...</td>\n",
              "      <td>...</td>\n",
              "      <td>...</td>\n",
              "      <td>...</td>\n",
              "      <td>...</td>\n",
              "    </tr>\n",
              "    <tr>\n",
              "      <th>2867</th>\n",
              "      <td>19611</td>\n",
              "      <td>2019</td>\n",
              "      <td>Vladimir Guerrero Jr.</td>\n",
              "      <td>0.254237</td>\n",
              "      <td>48.0</td>\n",
              "      <td>27.209550</td>\n",
              "    </tr>\n",
              "    <tr>\n",
              "      <th>2979</th>\n",
              "      <td>6876</td>\n",
              "      <td>2015</td>\n",
              "      <td>Mark Trumbo</td>\n",
              "      <td>0.372881</td>\n",
              "      <td>47.0</td>\n",
              "      <td>27.501251</td>\n",
              "    </tr>\n",
              "    <tr>\n",
              "      <th>1446</th>\n",
              "      <td>14221</td>\n",
              "      <td>2018</td>\n",
              "      <td>Jorge Soler</td>\n",
              "      <td>0.152542</td>\n",
              "      <td>48.0</td>\n",
              "      <td>28.562762</td>\n",
              "    </tr>\n",
              "    <tr>\n",
              "      <th>1954</th>\n",
              "      <td>4949</td>\n",
              "      <td>2016</td>\n",
              "      <td>Giancarlo Stanton</td>\n",
              "      <td>0.457627</td>\n",
              "      <td>59.0</td>\n",
              "      <td>31.795136</td>\n",
              "    </tr>\n",
              "    <tr>\n",
              "      <th>2349</th>\n",
              "      <td>1887</td>\n",
              "      <td>2009</td>\n",
              "      <td>Jose Bautista</td>\n",
              "      <td>0.220339</td>\n",
              "      <td>54.0</td>\n",
              "      <td>37.694531</td>\n",
              "    </tr>\n",
              "  </tbody>\n",
              "</table>\n",
              "<p>3298 rows × 6 columns</p>\n",
              "</div>\n",
              "      <button class=\"colab-df-convert\" onclick=\"convertToInteractive('df-1c532969-4ec1-444c-888a-8f1aa221fd07')\"\n",
              "              title=\"Convert this dataframe to an interactive table.\"\n",
              "              style=\"display:none;\">\n",
              "        \n",
              "  <svg xmlns=\"http://www.w3.org/2000/svg\" height=\"24px\"viewBox=\"0 0 24 24\"\n",
              "       width=\"24px\">\n",
              "    <path d=\"M0 0h24v24H0V0z\" fill=\"none\"/>\n",
              "    <path d=\"M18.56 5.44l.94 2.06.94-2.06 2.06-.94-2.06-.94-.94-2.06-.94 2.06-2.06.94zm-11 1L8.5 8.5l.94-2.06 2.06-.94-2.06-.94L8.5 2.5l-.94 2.06-2.06.94zm10 10l.94 2.06.94-2.06 2.06-.94-2.06-.94-.94-2.06-.94 2.06-2.06.94z\"/><path d=\"M17.41 7.96l-1.37-1.37c-.4-.4-.92-.59-1.43-.59-.52 0-1.04.2-1.43.59L10.3 9.45l-7.72 7.72c-.78.78-.78 2.05 0 2.83L4 21.41c.39.39.9.59 1.41.59.51 0 1.02-.2 1.41-.59l7.78-7.78 2.81-2.81c.8-.78.8-2.07 0-2.86zM5.41 20L4 18.59l7.72-7.72 1.47 1.35L5.41 20z\"/>\n",
              "  </svg>\n",
              "      </button>\n",
              "      \n",
              "  <style>\n",
              "    .colab-df-container {\n",
              "      display:flex;\n",
              "      flex-wrap:wrap;\n",
              "      gap: 12px;\n",
              "    }\n",
              "\n",
              "    .colab-df-convert {\n",
              "      background-color: #E8F0FE;\n",
              "      border: none;\n",
              "      border-radius: 50%;\n",
              "      cursor: pointer;\n",
              "      display: none;\n",
              "      fill: #1967D2;\n",
              "      height: 32px;\n",
              "      padding: 0 0 0 0;\n",
              "      width: 32px;\n",
              "    }\n",
              "\n",
              "    .colab-df-convert:hover {\n",
              "      background-color: #E2EBFA;\n",
              "      box-shadow: 0px 1px 2px rgba(60, 64, 67, 0.3), 0px 1px 3px 1px rgba(60, 64, 67, 0.15);\n",
              "      fill: #174EA6;\n",
              "    }\n",
              "\n",
              "    [theme=dark] .colab-df-convert {\n",
              "      background-color: #3B4455;\n",
              "      fill: #D2E3FC;\n",
              "    }\n",
              "\n",
              "    [theme=dark] .colab-df-convert:hover {\n",
              "      background-color: #434B5C;\n",
              "      box-shadow: 0px 1px 3px 1px rgba(0, 0, 0, 0.15);\n",
              "      filter: drop-shadow(0px 1px 2px rgba(0, 0, 0, 0.3));\n",
              "      fill: #FFFFFF;\n",
              "    }\n",
              "  </style>\n",
              "\n",
              "      <script>\n",
              "        const buttonEl =\n",
              "          document.querySelector('#df-1c532969-4ec1-444c-888a-8f1aa221fd07 button.colab-df-convert');\n",
              "        buttonEl.style.display =\n",
              "          google.colab.kernel.accessAllowed ? 'block' : 'none';\n",
              "\n",
              "        async function convertToInteractive(key) {\n",
              "          const element = document.querySelector('#df-1c532969-4ec1-444c-888a-8f1aa221fd07');\n",
              "          const dataTable =\n",
              "            await google.colab.kernel.invokeFunction('convertToInteractive',\n",
              "                                                     [key], {});\n",
              "          if (!dataTable) return;\n",
              "\n",
              "          const docLinkHtml = 'Like what you see? Visit the ' +\n",
              "            '<a target=\"_blank\" href=https://colab.research.google.com/notebooks/data_table.ipynb>data table notebook</a>'\n",
              "            + ' to learn more about interactive tables.';\n",
              "          element.innerHTML = '';\n",
              "          dataTable['output_type'] = 'display_data';\n",
              "          await google.colab.output.renderOutput(dataTable, element);\n",
              "          const docLink = document.createElement('div');\n",
              "          docLink.innerHTML = docLinkHtml;\n",
              "          element.appendChild(docLink);\n",
              "        }\n",
              "      </script>\n",
              "    </div>\n",
              "  </div>\n",
              "  "
            ]
          },
          "metadata": {},
          "execution_count": 64
        }
      ]
    }
  ]
}